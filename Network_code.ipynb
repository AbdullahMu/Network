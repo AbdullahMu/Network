{
 "cells": [
  {
   "cell_type": "markdown",
   "metadata": {},
   "source": [
    "# Networks "
   ]
  },
  {
   "cell_type": "markdown",
   "metadata": {},
   "source": [
    "### Objectives: \n",
    "\n",
    "- Understand what a graph is\n",
    "- Describe a graph through its edge list and adjacency matrix\n",
    "- Distinguish different types of graphs \n",
    "- Extract the most common measures of graph characteristics with networkx"
   ]
  },
  {
   "cell_type": "markdown",
   "metadata": {},
   "source": [
    "#### task (2 min): \n",
    "\n",
    "- install [networkx](http://networkx.readthedocs.io/en/stable/#) package \n",
    "``` \n",
    "    - pip install networkx\n",
    "    - conda install -c conda-forge networkx \n",
    "```\n",
    "<br>\n",
    "- install [nxviz](https://nxviz.readthedocs.io/en/latest/modules.html) package \n",
    "``` \n",
    "    - pip install nxviz\n",
    "    - conda install -c conda-forge nxviz \n",
    "```\n"
   ]
  },
  {
   "cell_type": "markdown",
   "metadata": {},
   "source": [
    "## Graphs\n",
    "\n",
    "A graph $G=(V,E)$ is defined by \n",
    "\n",
    "* a set $V$ of **nodes** (also called **vertices**) and \n",
    "* a set $E$ of **edges** (also called **links**) indicating which node is connected to which node. \n"
   ]
  },
  {
   "cell_type": "code",
   "execution_count": null,
   "metadata": {},
   "outputs": [],
   "source": [
    "import numpy as np\n",
    "import pandas as pd\n",
    "\n",
    "import matplotlib.pyplot as plt\n",
    "import seaborn as sns\n",
    "\n",
    "import networkx as nx\n",
    "from custom import load_data as cf\n",
    "\n",
    "\n",
    "import warnings\n",
    "warnings.filterwarnings('ignore')\n",
    "\n",
    "# plt.style.use('ggplot') \n",
    "%matplotlib inline\n",
    "%config InlineBackend.figure_format = 'retina'"
   ]
  },
  {
   "cell_type": "markdown",
   "metadata": {},
   "source": [
    "# Undirected Graphs "
   ]
  },
  {
   "cell_type": "markdown",
   "metadata": {},
   "source": [
    "### Simple Graph"
   ]
  },
  {
   "cell_type": "code",
   "execution_count": null,
   "metadata": {},
   "outputs": [],
   "source": [
    "G = nx.complete_graph(10)\n",
    "plt.figure(figsize=(6,6))\n",
    "nx.draw_circular(G)"
   ]
  },
  {
   "cell_type": "code",
   "execution_count": null,
   "metadata": {},
   "outputs": [],
   "source": [
    "# what is the type of G ? \n",
    "type(G)"
   ]
  },
  {
   "cell_type": "code",
   "execution_count": null,
   "metadata": {},
   "outputs": [],
   "source": [
    "# we can see all the edges in G\n",
    "G.edges()"
   ]
  },
  {
   "cell_type": "markdown",
   "metadata": {},
   "source": [
    "#### Adjacency matrix"
   ]
  },
  {
   "cell_type": "code",
   "execution_count": null,
   "metadata": {},
   "outputs": [],
   "source": [
    "nx.adjacency_matrix(G).todense()"
   ]
  },
  {
   "cell_type": "markdown",
   "metadata": {},
   "source": [
    "### lets create a Graph from scratch "
   ]
  },
  {
   "cell_type": "code",
   "execution_count": null,
   "metadata": {},
   "outputs": [],
   "source": [
    "# init the Graph\n",
    "G = nx.Graph()\n",
    "\n",
    "# lets see it\n",
    "nx.draw(G)"
   ]
  },
  {
   "cell_type": "markdown",
   "metadata": {},
   "source": [
    "The Graph is empty, there is nothing to draw."
   ]
  },
  {
   "cell_type": "markdown",
   "metadata": {},
   "source": [
    "#### add nodes to the graph"
   ]
  },
  {
   "cell_type": "code",
   "execution_count": null,
   "metadata": {},
   "outputs": [],
   "source": [
    "# node by node\n",
    "G.add_node(\"1\") # could be string\n",
    "G.add_node(2) # could be intger or float \n",
    "\n",
    "# multiple nodes at once \n",
    "G.add_nodes_from([3,4,5])\n",
    "\n",
    "# lets see it\n",
    "nx.draw(G, with_labels=True)"
   ]
  },
  {
   "cell_type": "markdown",
   "metadata": {},
   "source": [
    "#### how about edges "
   ]
  },
  {
   "cell_type": "code",
   "execution_count": null,
   "metadata": {},
   "outputs": [],
   "source": [
    "# edge by edge \n",
    "G.add_edge(\"1\", 3)\n",
    "G.add_edge(2, 5)\n",
    "\n",
    "# multiple edges at once \n",
    "G.add_edges_from([(3,5), (2,4), (\"1\",2)])\n",
    "\n",
    "# lets see it\n",
    "nx.draw_circular(G, with_labels=True)"
   ]
  },
  {
   "cell_type": "code",
   "execution_count": null,
   "metadata": {},
   "outputs": [],
   "source": [
    "# ANOTHER way of adding nodes \n",
    "G.add_edge(7,5)\n",
    "G.add_edge(6,7)\n",
    "\n",
    "print(f\"nodes: {G.nodes()}\")\n",
    "\n",
    "\n",
    "# lets see it\n",
    "nx.draw_circular(G, with_labels=True)"
   ]
  },
  {
   "cell_type": "code",
   "execution_count": null,
   "metadata": {},
   "outputs": [],
   "source": [
    "print(\"Adjacency matrix:\")\n",
    "nx.adjacency_matrix(G).todense()"
   ]
  },
  {
   "cell_type": "code",
   "execution_count": null,
   "metadata": {},
   "outputs": [],
   "source": [
    "# unother way to examin the Adjacency matrix\n",
    "plt.spy(nx.adjacency_matrix(G).todense(), markersize=30)\n",
    "\n",
    "plt.show();"
   ]
  },
  {
   "cell_type": "code",
   "execution_count": null,
   "metadata": {},
   "outputs": [],
   "source": [
    "G.adj[\"1\"]"
   ]
  },
  {
   "cell_type": "code",
   "execution_count": null,
   "metadata": {},
   "outputs": [],
   "source": [
    "G[\"1\"]"
   ]
  },
  {
   "cell_type": "markdown",
   "metadata": {},
   "source": [
    "# Directed Graphs"
   ]
  },
  {
   "cell_type": "markdown",
   "metadata": {},
   "source": [
    "Let us study the same graph, but now giving a direction to the edges. This is done by initialising a DiGraph object, and all added edges will have the direction from the first to the second node argument."
   ]
  },
  {
   "cell_type": "code",
   "execution_count": null,
   "metadata": {},
   "outputs": [],
   "source": [
    "DG = nx.DiGraph()"
   ]
  },
  {
   "cell_type": "code",
   "execution_count": null,
   "metadata": {},
   "outputs": [],
   "source": [
    "# node by node\n",
    "DG.add_node(\"1\")\n",
    "DG.add_node(2)\n",
    "\n",
    "# multiple nodes at once \n",
    "DG.add_nodes_from([3,4,5])\n",
    "\n",
    "# lets see it\n",
    "nx.draw(DG, with_labels=True)"
   ]
  },
  {
   "cell_type": "code",
   "execution_count": null,
   "metadata": {},
   "outputs": [],
   "source": [
    "# edge by edge \n",
    "DG.add_edge(\"1\", 3)\n",
    "DG.add_edge(2, 5)\n",
    "\n",
    "# multiple edges at once \n",
    "DG.add_edges_from([(3,5), (2,4), (\"1\",2)])\n",
    "\n",
    "# lets see it\n",
    "nx.draw(DG, with_labels=True)"
   ]
  },
  {
   "cell_type": "code",
   "execution_count": null,
   "metadata": {},
   "outputs": [],
   "source": [
    "# ANOTHER way of adding nodes \n",
    "DG.add_edge(7,5)\n",
    "DG.add_edge(6,7)\n",
    "\n",
    "print(\"nodes:\")\n",
    "print(DG.nodes())\n",
    "\n",
    "# lets see it\n",
    "nx.draw_circular(DG, with_labels=True)"
   ]
  },
  {
   "cell_type": "code",
   "execution_count": null,
   "metadata": {},
   "outputs": [],
   "source": [
    "print(\"Adjacency matrix: \")\n",
    "print(nx.adjacency_matrix(DG).todense())"
   ]
  },
  {
   "cell_type": "code",
   "execution_count": null,
   "metadata": {},
   "outputs": [],
   "source": [
    "plt.spy(nx.adjacency_matrix(DG).todense(), markersize=30)\n",
    "plt.show();"
   ]
  },
  {
   "cell_type": "markdown",
   "metadata": {},
   "source": [
    "### Degrees"
   ]
  },
  {
   "cell_type": "markdown",
   "metadata": {},
   "source": [
    "degree : how many edges conected to the node "
   ]
  },
  {
   "cell_type": "markdown",
   "metadata": {},
   "source": [
    "##### Non Directed Graphs"
   ]
  },
  {
   "cell_type": "code",
   "execution_count": null,
   "metadata": {},
   "outputs": [],
   "source": [
    "G.degree()"
   ]
  },
  {
   "cell_type": "code",
   "execution_count": null,
   "metadata": {},
   "outputs": [],
   "source": [
    "degree = dict(G.degree())\n",
    "\n",
    "plt.bar(range(len(degree)), degree.values())\n",
    "plt.title(\"Nodes Degree\")\n",
    "\n",
    "plt.xticks(range(len(degree)), degree.keys())\n",
    "\n",
    "plt.show();"
   ]
  },
  {
   "cell_type": "code",
   "execution_count": null,
   "metadata": {},
   "outputs": [],
   "source": [
    "# print Graph info \n",
    "print(nx.info(G))"
   ]
  },
  {
   "cell_type": "markdown",
   "metadata": {},
   "source": [
    "Let us study the same graph, but now giving a direction to the edges. This is done by initialising a DiGraph object, and all added edges will have the direction from the first to the second node argument."
   ]
  },
  {
   "cell_type": "markdown",
   "metadata": {},
   "source": [
    "##### Directed Graphs"
   ]
  },
  {
   "cell_type": "code",
   "execution_count": null,
   "metadata": {},
   "outputs": [],
   "source": [
    "# how many edges goes to(in) the node\n",
    "print(\"in-degree:\")\n",
    "print(DG.in_degree())\n",
    "print(\"\\n\")\n",
    "# how many edges goes from(out) the node\n",
    "print(\"out-degree:\")\n",
    "print(DG.out_degree())"
   ]
  },
  {
   "cell_type": "code",
   "execution_count": null,
   "metadata": {},
   "outputs": [],
   "source": [
    "indeg = dict(DG.in_degree())\n",
    "outdeg = dict(DG.out_degree())\n",
    "\n",
    "df = pd.DataFrame()\n",
    "df[\"node\"] = 2 * list(indeg.keys())\n",
    "df[\"degree\"] = list(indeg.values()) + list(outdeg.values())\n",
    "df[\"degree_dir\"] = [\"in degree\" for _ in range(len(indeg))] +  [\"out degree\" for _ in range(len(indeg))]\n",
    "\n",
    "sns.barplot(\"node\", \"degree\", \"degree_dir\", data=df);"
   ]
  },
  {
   "cell_type": "code",
   "execution_count": null,
   "metadata": {},
   "outputs": [],
   "source": [
    "# print Graph info \n",
    "print(nx.info(DG))"
   ]
  },
  {
   "cell_type": "markdown",
   "metadata": {},
   "source": [
    "# Let's study an actual network "
   ]
  },
  {
   "cell_type": "markdown",
   "metadata": {
    "slideshow": {
     "slide_type": "slide"
    }
   },
   "source": [
    "## Load Data\n",
    "\n",
    "Let's load some real network data to get a feel for the NetworkX API. This [dataset](http://konect.uni-koblenz.de/networks/moreno_seventh) comes from a study of 7th grade students.\n",
    "\n",
    "> This directed network contains proximity ratings between studetns from 29 seventh grade students from a school in Victoria. Among other questions the students were asked to nominate their preferred classmates for three different activities. A node represents a student. An edge between two nodes shows that the left student picked the right student as his answer. The edge weights are between 1 and 3 and show how often the left student chose the right student as his favourite."
   ]
  },
  {
   "cell_type": "code",
   "execution_count": null,
   "metadata": {
    "ExecuteTime": {
     "end_time": "2017-07-11T18:51:50.339097Z",
     "start_time": "2017-07-11T18:51:50.262615Z"
    },
    "slideshow": {
     "slide_type": "fragment"
    }
   },
   "outputs": [],
   "source": [
    "G = cf.load_seventh_grader_network()"
   ]
  },
  {
   "cell_type": "code",
   "execution_count": null,
   "metadata": {},
   "outputs": [],
   "source": [
    "type(G)"
   ]
  },
  {
   "cell_type": "code",
   "execution_count": null,
   "metadata": {},
   "outputs": [],
   "source": [
    "print(nx.info(G))"
   ]
  },
  {
   "cell_type": "code",
   "execution_count": null,
   "metadata": {},
   "outputs": [],
   "source": [
    "list(G.nodes(data=True))[:10]"
   ]
  },
  {
   "cell_type": "code",
   "execution_count": null,
   "metadata": {},
   "outputs": [],
   "source": [
    "G.edges(1,data=True)"
   ]
  },
  {
   "cell_type": "code",
   "execution_count": null,
   "metadata": {},
   "outputs": [],
   "source": [
    "print(\"Adjacency matrix:\")\n",
    "nx.adjacency_matrix(G, weight=\"count\").todense()"
   ]
  },
  {
   "cell_type": "code",
   "execution_count": null,
   "metadata": {},
   "outputs": [],
   "source": [
    "from nxviz import MatrixPlot\n",
    "\n",
    "m = MatrixPlot(G)\n",
    "m.draw()\n",
    "plt.show()"
   ]
  },
  {
   "cell_type": "code",
   "execution_count": null,
   "metadata": {},
   "outputs": [],
   "source": [
    "nx.draw(G, with_labels=True)"
   ]
  },
  {
   "cell_type": "code",
   "execution_count": null,
   "metadata": {},
   "outputs": [],
   "source": [
    "from nxviz import ArcPlot\n",
    "\n",
    "a = ArcPlot(G, node_color='gender', node_grouping='gender')\n",
    "a.draw()"
   ]
  },
  {
   "cell_type": "code",
   "execution_count": null,
   "metadata": {},
   "outputs": [],
   "source": [
    "from nxviz import CircosPlot\n",
    "\n",
    "c = CircosPlot(G, node_color='gender', node_grouping='gender', node_labels=True)\n",
    "c.draw()\n"
   ]
  },
  {
   "cell_type": "code",
   "execution_count": null,
   "metadata": {},
   "outputs": [],
   "source": [
    "indeg = dict(G.in_degree(weight=\"count\"))\n",
    "outdeg = dict(G.out_degree(weight=\"count\"))\n",
    "\n",
    "df = pd.DataFrame()\n",
    "df[\"node\"] = 2 * list(indeg.keys())\n",
    "df[\"degree\"] = list(indeg.values()) + list(outdeg.values())\n",
    "df[\"degree_dir\"] = [\"in degree\" for _ in range(len(indeg))] +  [\"out degree\" for _ in range(len(indeg))]\n",
    "plt.figure(figsize=(8,8))\n",
    "sns.barplot(\"node\", \"degree\", \"degree_dir\", data=df);"
   ]
  },
  {
   "cell_type": "markdown",
   "metadata": {},
   "source": [
    "## Bipartite Graphs"
   ]
  },
  {
   "cell_type": "markdown",
   "metadata": {},
   "source": [
    "A bipartite graph consists of two groups of nodes. There are links between nodes of differing groups, but no links among nodes from the same group. Common examples are customers and purchased products or meetups and people attending.\n",
    "Which of the groups a node belongs to can be indicated by the keyword \"bipartite\" and the corresponding group."
   ]
  },
  {
   "cell_type": "code",
   "execution_count": null,
   "metadata": {},
   "outputs": [],
   "source": [
    "from networkx.algorithms import bipartite\n",
    "\n",
    "B = nx.Graph()\n",
    "B.add_nodes_from([1,2,3,4,5,6], bipartite=0) # Add the node attribute \"bipartite\"\n",
    "B.add_nodes_from([7,8,9,10,11], bipartite=1)\n",
    "B.add_edges_from([(1,7), (2,9), (3,7), (3,8), (3,9), (4,9), \n",
    "                  (4,10), (5,9), (5,11), (6,11)])"
   ]
  },
  {
   "cell_type": "code",
   "execution_count": null,
   "metadata": {},
   "outputs": [],
   "source": [
    "nx.draw(B, with_labels=True)"
   ]
  },
  {
   "cell_type": "code",
   "execution_count": null,
   "metadata": {},
   "outputs": [],
   "source": [
    "print(nx.info(B))"
   ]
  },
  {
   "cell_type": "code",
   "execution_count": null,
   "metadata": {},
   "outputs": [],
   "source": [
    "bottom_nodes, top_nodes = bipartite.sets(B)\n",
    "print(\"First group:\", bottom_nodes)\n",
    "print(\"Second group:\", top_nodes)"
   ]
  },
  {
   "cell_type": "code",
   "execution_count": null,
   "metadata": {},
   "outputs": [],
   "source": [
    "position = list(zip([0]*len(bottom_nodes),list(range(len(bottom_nodes)))))+list(zip([1]*len(top_nodes),list(range(len(top_nodes)))))\n",
    "\n",
    "positions = {}\n",
    "for node in bottom_nodes:\n",
    "    positions[node] = np.array(position[node-1])\n",
    "for node in top_nodes:\n",
    "    positions[node] = np.array(position[node-1])\n",
    "nx.draw(B,pos=positions,with_labels=True,node_color = ['red']*len(bottom_nodes) + \n",
    "    ['blue']*len(top_nodes))"
   ]
  },
  {
   "cell_type": "code",
   "execution_count": null,
   "metadata": {},
   "outputs": [],
   "source": [
    "G_top = bipartite.projected_graph(B, top_nodes)\n",
    "G_bottom = bipartite.projected_graph(B, bottom_nodes)\n",
    "print(G_top.edges())\n",
    "print(G_bottom.edges())"
   ]
  },
  {
   "cell_type": "code",
   "execution_count": null,
   "metadata": {},
   "outputs": [],
   "source": [
    "nx.draw_circular(G_bottom,with_labels=True)"
   ]
  },
  {
   "cell_type": "code",
   "execution_count": null,
   "metadata": {},
   "outputs": [],
   "source": [
    "nx.draw_circular(G_top,with_labels=True,node_color='blue')"
   ]
  },
  {
   "cell_type": "markdown",
   "metadata": {},
   "source": [
    "Due to the bipartite nature of the graph, the adjacency matrix has entries only in the upper right and lower left block. \n",
    "The projection on the two sets can be obtained by taking the matrix product of the adjacency matrix $A$ with its transpose and restricting the index range. "
   ]
  },
  {
   "cell_type": "code",
   "execution_count": null,
   "metadata": {},
   "outputs": [],
   "source": [
    "print(\"Adjacency matrix of the bipartite graph:\") \n",
    "print(nx.adjacency_matrix(B).todense())"
   ]
  },
  {
   "cell_type": "code",
   "execution_count": null,
   "metadata": {},
   "outputs": [],
   "source": [
    "print(nx.adjacency_matrix(B).dot(nx.adjacency_matrix(B)).todense())"
   ]
  },
  {
   "cell_type": "code",
   "execution_count": null,
   "metadata": {},
   "outputs": [],
   "source": [
    "print(\"Adjacency matrix of the bipartite graph projected on group 0:\") \n",
    "print(nx.adjacency_matrix(B).dot(nx.adjacency_matrix(B)).todense()[:6,:6])"
   ]
  },
  {
   "cell_type": "code",
   "execution_count": null,
   "metadata": {},
   "outputs": [],
   "source": [
    "print(\"Adjacency matrix of the bipartite graph projected on group 1:\") \n",
    "print(nx.adjacency_matrix(B).dot(nx.adjacency_matrix(B)).todense()[6:,6:])"
   ]
  },
  {
   "cell_type": "markdown",
   "metadata": {},
   "source": [
    "# Analysis "
   ]
  },
  {
   "cell_type": "markdown",
   "metadata": {},
   "source": [
    "<a id=\"clustering-coefficient\"></a>\n",
    "## Clustering coefficient\n",
    "\n",
    "The neighbours of a given node might be linked to each other, too. For example, two of your friends could be also each other's friends. The ratio between the number of links among neighbours and the number of possible links between them (which is $n(n-1)/2$ for $n$ neighbours) gives the clustering coefficient. It gives the probability that two of your friends are also each other's friends."
   ]
  },
  {
   "cell_type": "code",
   "execution_count": null,
   "metadata": {},
   "outputs": [],
   "source": [
    "print(\"Clustering coefficients: \")\n",
    "print(nx.clustering(G))\n",
    "print(\"Average clustering coefficient: \")\n",
    "print(nx.average_clustering(G))"
   ]
  },
  {
   "cell_type": "markdown",
   "metadata": {},
   "source": [
    "<a id=\"shortest-path\"></a>\n",
    "## Shortest path\n",
    "\n",
    "If two nodes can be reached along a sequence of links, there is a path connecting them. The shortest one of them can be determined by starting at one of the nodes, and then checking if the other node is among the neighbours, second neighbours and so on until it is found. If no such path exists, the path length between the nodes is infinite."
   ]
  },
  {
   "cell_type": "code",
   "execution_count": null,
   "metadata": {},
   "outputs": [],
   "source": [
    "print(nx.shortest_path_length(G,1,3))\n",
    "dict(nx.shortest_path_length(G))[1]"
   ]
  },
  {
   "cell_type": "markdown",
   "metadata": {},
   "source": [
    "## Connected Components\n",
    "\n",
    "A graph can consist of several subgraphs which are not linked to each other. These subgraphs are called the connected components.\n"
   ]
  },
  {
   "cell_type": "code",
   "execution_count": null,
   "metadata": {},
   "outputs": [],
   "source": [
    "G_test = nx.disjoint_union(nx.sedgewick_maze_graph(), nx.petersen_graph())"
   ]
  },
  {
   "cell_type": "code",
   "execution_count": null,
   "metadata": {},
   "outputs": [],
   "source": [
    "nx.draw(G_test, node_size=100)"
   ]
  },
  {
   "cell_type": "code",
   "execution_count": null,
   "metadata": {},
   "outputs": [],
   "source": [
    "nx.connected_component_subgraphs(G_test)"
   ]
  },
  {
   "cell_type": "code",
   "execution_count": null,
   "metadata": {},
   "outputs": [],
   "source": [
    "sub = [G.nodes() for G in nx.connected_component_subgraphs(G_test)]\n",
    "sub"
   ]
  },
  {
   "cell_type": "markdown",
   "metadata": {},
   "source": []
  },
  {
   "cell_type": "markdown",
   "metadata": {},
   "source": [
    "<a id=\"centrality\"></a>\n",
    "## Centrality Measures\n",
    "\n",
    "<a id=\"betweenness\"></a>\n",
    "### Betweenness Centrality"
   ]
  },
  {
   "cell_type": "markdown",
   "metadata": {},
   "source": [
    "Often we have to identify nodes or links which have more importance for the network. Rankings of nodes or edges can be obtained with various **centrality measures**. One of them is the so-called betweenness centrality. \n",
    "\n",
    "In a network, one can determine the shortest path between any two nodes and count how many of these paths run through each node or link. This number gives the vertex or edge betweenness. \n",
    "\n",
    "Think for example of connections between any two points in London. If they are on the same side of the Thames, the shortest paths between a pair of any two points will not have many segments in common. If the points are on different sides of the Thames, one has to use one of the bridges and these will have a high betweenness."
   ]
  },
  {
   "cell_type": "code",
   "execution_count": null,
   "metadata": {},
   "outputs": [],
   "source": [
    "G = G_test.subgraph(sub[0]).copy()\n",
    "nx.draw(G, with_labels=True)"
   ]
  },
  {
   "cell_type": "code",
   "execution_count": null,
   "metadata": {},
   "outputs": [],
   "source": [
    "node_centrality = nx.betweenness_centrality(G)\n",
    "edge_centrality = nx.edge_betweenness_centrality(G)"
   ]
  },
  {
   "cell_type": "code",
   "execution_count": null,
   "metadata": {},
   "outputs": [],
   "source": [
    "shortest_paths = {node:paths for node, paths in nx.all_pairs_shortest_path(G)}\n",
    "shortest_paths[0]"
   ]
  },
  {
   "cell_type": "code",
   "execution_count": null,
   "metadata": {},
   "outputs": [],
   "source": [
    "node_centrality"
   ]
  },
  {
   "cell_type": "code",
   "execution_count": null,
   "metadata": {},
   "outputs": [],
   "source": [
    "plt.barh(list(range(len(list(node_centrality.values())))),\n",
    "         list(node_centrality.values()))\n",
    "plt.yticks(list(range(len(node_centrality))),list(node_centrality.keys()))\n",
    "plt.title('Node betweenness centrality')\n",
    "plt.show()"
   ]
  },
  {
   "cell_type": "code",
   "execution_count": null,
   "metadata": {},
   "outputs": [],
   "source": [
    "plt.hist(list(node_centrality.values()))\n",
    "plt.title('Distribution of node betweenness centrality')\n",
    "plt.show()"
   ]
  },
  {
   "cell_type": "code",
   "execution_count": null,
   "metadata": {},
   "outputs": [],
   "source": [
    "edge_centrality"
   ]
  },
  {
   "cell_type": "code",
   "execution_count": null,
   "metadata": {},
   "outputs": [],
   "source": [
    "plt.barh(list(range(len(list(edge_centrality.values())))),\n",
    "         list(edge_centrality.values()))\n",
    "plt.yticks(list(range(len(edge_centrality))),list(edge_centrality.keys()))\n",
    "plt.title('Edge betweenness centrality')\n",
    "plt.show()"
   ]
  },
  {
   "cell_type": "code",
   "execution_count": null,
   "metadata": {},
   "outputs": [],
   "source": [
    "plt.hist(list(edge_centrality.values()))\n",
    "plt.title('Distribution of edge betweenness centrality')\n",
    "plt.show()"
   ]
  },
  {
   "cell_type": "markdown",
   "metadata": {},
   "source": [
    "<a id=\"robustness\"></a>\n",
    "## Robustness\n",
    "\n",
    "An interesting question in network theory is how robust a network is. That means what influence does the removal of nodes or links have on the network, if it will still work or be disrupted. We assume that a network does not work properly any more if the number of nodes in the giant component is significantly reduced (for example in one of the recent tube strikes). One can think of random failure (for example a computer in a cluster) or targeted attacks (for example by hackers).\n",
    "\n",
    "We try first how long it takes until a network becomes disconnected by random node elimination. \n",
    "Then we will try a targeted attack."
   ]
  },
  {
   "cell_type": "markdown",
   "metadata": {},
   "source": [
    "<a id=\"breaking-giant-component\"></a>\n",
    "### Breaking the giant component"
   ]
  },
  {
   "cell_type": "code",
   "execution_count": null,
   "metadata": {},
   "outputs": [],
   "source": [
    "import copy\n",
    "\n",
    "def breaking_graph(H,node_list):\n",
    "    #define the new graph as the subgraph induced by the GCC\n",
    "    n_l = copy.deepcopy(node_list)\n",
    "    #continue deleting nodes from the GCC while the graph consists of a\n",
    "    #single component (num_components=1)\n",
    "    num_components = 1\n",
    "    count = 0\n",
    "    while num_components == 1:\n",
    "        count += 1\n",
    "        #node_to_delete = random.choice(H.nodes()) \n",
    "        #select at random an element in the node list or\n",
    "        #select a node according to the betweenness ranking \n",
    "        #(the last in the list)\n",
    "        node_to_delete = n_l.pop() \n",
    "        H.remove_node(node_to_delete)\n",
    "        #(GCC,num_components) = giant_component_size(H)\n",
    "        num_components = nx.number_connected_components(H)\n",
    "    return count"
   ]
  },
  {
   "cell_type": "code",
   "execution_count": null,
   "metadata": {},
   "outputs": [],
   "source": [
    "nx.draw(G,with_labels=True)"
   ]
  },
  {
   "cell_type": "code",
   "execution_count": null,
   "metadata": {},
   "outputs": [],
   "source": [
    "print(breaking_graph(G, list(G.nodes)))\n",
    "nx.draw(G,with_labels=True)"
   ]
  },
  {
   "cell_type": "markdown",
   "metadata": {},
   "source": [
    "### Breaking the graph randomly"
   ]
  },
  {
   "cell_type": "code",
   "execution_count": null,
   "metadata": {},
   "outputs": [],
   "source": [
    "G = G_test.subgraph(sub[0]).copy()\n",
    "random_list = copy.deepcopy(list(G.nodes()))\n",
    "np.random.shuffle(random_list)\n",
    "\n",
    "c = breaking_graph(G,random_list)\n",
    "\n",
    "print(\"num of iterations:\", c)"
   ]
  },
  {
   "cell_type": "code",
   "execution_count": null,
   "metadata": {},
   "outputs": [],
   "source": [
    "C = []\n",
    "for _ in range(10000):\n",
    "    G = G_test.subgraph(sub[0]).copy()\n",
    "    random_list = copy.deepcopy(list(G.nodes()))\n",
    "    np.random.shuffle(random_list)\n",
    "\n",
    "    c = breaking_graph(G,random_list)\n",
    "    C.append(c)"
   ]
  },
  {
   "cell_type": "code",
   "execution_count": null,
   "metadata": {},
   "outputs": [],
   "source": [
    "sns.distplot(C,bins=7);"
   ]
  },
  {
   "cell_type": "markdown",
   "metadata": {},
   "source": [
    "<a id=\"breaking-betweenness\"></a>\n",
    "### Breaking with Betweenness Centrality\n",
    "\n",
    "To target our attack, we have to identify nodes or links which have more importance for the connectedness of the network, for example according to betweenness centrality. \n",
    "\n",
    "Following that logic, we will determine the node with the highest betweenness and remove it. The connectedness breaks down very fast."
   ]
  },
  {
   "cell_type": "code",
   "execution_count": null,
   "metadata": {},
   "outputs": [],
   "source": [
    "import operator\n",
    "\n",
    "G = G_test.subgraph(sub[0]).copy()\n",
    "\n",
    "node_centrality = nx.betweenness_centrality(G)\n",
    "\n",
    "sorted_bc = sorted(list(node_centrality.items()),key = operator.itemgetter(1))\n",
    "\n",
    "#selecting the ranked node list\n",
    "node_ranking = [item[0] for item in sorted_bc]\n",
    "\n",
    "c = breaking_graph(G,node_ranking)\n",
    "\n",
    "print(\"num of iterations:\", c)"
   ]
  },
  {
   "cell_type": "markdown",
   "metadata": {},
   "source": [
    "<a id=\"Girvan-Newman\"></a>\n",
    "## The Girvan-Newman algorithm \n",
    "\n",
    "\n",
    "One of these methods is given by the Girvan-Newman algorithm and is based on the edge betweenness. One starts with a connected network and removes the edge with the highest betweenness obtaining a new network with one edge less. One calculates again the betweenness for all edges (by the edge removal it has changed), removes the one with the highest betweenness and so on. The network will split into more and more disconnected components until either the desired number of disconnected components, i.e. communities, is reached or all edges have been removed."
   ]
  },
  {
   "cell_type": "code",
   "execution_count": null,
   "metadata": {},
   "outputs": [],
   "source": [
    "G = nx.Graph()\n",
    "G.add_edges_from([('A','B'),('A','D'),('B','D'),('B','E'),('E','I'),\n",
    "                  ('D','I'),('D','H'),('H','I'),('E','F'),('F','C'),\n",
    "                  ('F','L'),('C','L'),('C','G'),('G','L')])\n",
    "\n",
    "pos = nx.drawing.spring_layout(G)\n",
    "                       \n",
    "nx.draw(G, pos,with_labels=True)\n",
    "plt.show()"
   ]
  },
  {
   "cell_type": "code",
   "execution_count": null,
   "metadata": {},
   "outputs": [],
   "source": [
    "def Girvan_Newman(G_1):\n",
    "    G = G_1.copy()\n",
    "    pos = nx.drawing.spring_layout(G)\n",
    "    sorted_bc = [1]\n",
    "    actual_number_components = 1\n",
    "    while not sorted_bc == []:\n",
    "        d_edge = nx.edge_betweenness_centrality(G)\n",
    "        sorted_bc = sorted(list(d_edge.items()), key=operator.itemgetter(1))\n",
    "        e = sorted_bc.pop()\n",
    "        print(\"deleting edge:\", e[0], end=' ')\n",
    "        G.remove_edge(*e[0])\n",
    "        num_comp = nx.number_connected_components(G)\n",
    "        print(\"...we have now \",num_comp,\" components\")\n",
    "        if num_comp > actual_number_components:\n",
    "            actual_number_components = num_comp\n",
    "            if num_comp < 7:\n",
    "                nx.draw(G, pos,with_labels=True)\n",
    "                plt.show()"
   ]
  },
  {
   "cell_type": "code",
   "execution_count": null,
   "metadata": {},
   "outputs": [],
   "source": [
    "Girvan_Newman(G)"
   ]
  },
  {
   "cell_type": "code",
   "execution_count": null,
   "metadata": {},
   "outputs": [],
   "source": [
    "list(nx.community.girvan_newman(G))"
   ]
  },
  {
   "cell_type": "markdown",
   "metadata": {},
   "source": [
    "<a id=\"resources\"></a>\n",
    "## Additional Resources\n",
    "\n",
    "There are some very good references.\n",
    "These two books present both the formalism as well as many applications and have very readable introductory parts:\n",
    "* Albert-László Barabási: Network Science, Cambridge University Press, 2016 [online version](http://barabasi.com/networksciencebook/)\n",
    "* Mark Newman: Networks, Oxford University Press, 2010\n",
    "\n",
    "This book illustrates the use of networkx with applications to a range of datasets in worked out examples. Several examples in this lesson are from this book.\n",
    "\n",
    "* Guido Caldarelli, Alessandro Chessa: Data Science and Complex Networks, Oxford University Press, 2016 (http://book.complexnetworks.net/)\n",
    "\n",
    "A popular scientific book which is really recommandable for getting familiar with this topic is \n",
    "* Albert-László Barabási: Linked, Perseus Publishing, 2002 \n",
    "\n",
    "Resources on community detection:\n",
    "* Santo Fortunato's [review](https://arxiv.org/abs/0906.0612) or his [blog](http://digitalinterface.blogspot.co.uk/2013/05/community-detection-in-graphs.html) \n",
    "\n",
    "<a id=\"data-resources\"></a>\n",
    "## Network data resources\n",
    "There are several sources of network datasets:\n",
    "1. [Stanford Large Network Dataset Collection](https://snap.stanford.edu/data/index.html)\n",
    "1. [Manlio De Domenico's collection](http://deim.urv.cat/~manlio.dedomenico/data.php)\n",
    "1. [UC Irvine Network Data Repository](http://networkdata.ics.uci.edu/)\n",
    "1. [University of Koblenz repository](http://konect.uni-koblenz.de/networks/)"
   ]
  }
 ],
 "metadata": {
  "kernelspec": {
   "display_name": "Python 3",
   "language": "python",
   "name": "python3"
  },
  "language_info": {
   "codemirror_mode": {
    "name": "ipython",
    "version": 3
   },
   "file_extension": ".py",
   "mimetype": "text/x-python",
   "name": "python",
   "nbconvert_exporter": "python",
   "pygments_lexer": "ipython3",
   "version": "3.7.3"
  }
 },
 "nbformat": 4,
 "nbformat_minor": 4
}
